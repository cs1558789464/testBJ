{
 "cells": [
  {
   "cell_type": "markdown",
   "metadata": {},
   "source": [
    "# 选择\n",
    "## 布尔类型、数值和表达式\n",
    "![](../Photo/33.png)\n",
    "- 注意：比较运算符的相等是两个等到，一个等到代表赋值\n",
    "- 在Python中可以用整型0来代表False，其他数字来代表True\n",
    "- 后面还会讲到 is 在判断语句中的用发"
   ]
  },
  {
   "cell_type": "markdown",
   "metadata": {},
   "source": [
    "## 字符串的比较使用ASCII值"
   ]
  },
  {
   "cell_type": "markdown",
   "metadata": {},
   "source": [
    "## Markdown \n",
    "- https://github.com/younghz/Markdown"
   ]
  },
  {
   "cell_type": "markdown",
   "metadata": {},
   "source": [
    "## EP:\n",
    "- <img src=\"../Photo/34.png\"></img>\n",
    "- 输入一个数字，判断其实奇数还是偶数"
   ]
  },
  {
   "cell_type": "markdown",
   "metadata": {},
   "source": [
    "## 产生随机数字\n",
    "- 函数random.randint(a,b) 可以用来产生一个a和b之间且包括a和b的随机整数"
   ]
  },
  {
   "cell_type": "code",
   "execution_count": null,
   "metadata": {},
   "outputs": [],
   "source": [
    "print(\"zz\")    "
   ]
  },
  {
   "cell_type": "markdown",
   "metadata": {},
   "source": [
    "##  其他random方法\n",
    "- random.random 返回0.0到1.0之间前闭后开区间的随机浮点\n",
    "- random.randrange(a,b) 前闭后开"
   ]
  },
  {
   "cell_type": "markdown",
   "metadata": {},
   "source": [
    "## EP：\n",
    "- 产生两个随机整数number1和number2，然后显示给用户，使用户输入数字的和，并判定其是否正确\n",
    "- 进阶:写一个随机序号点名程序"
   ]
  },
  {
   "cell_type": "code",
   "execution_count": null,
   "metadata": {},
   "outputs": [],
   "source": []
  },
  {
   "cell_type": "markdown",
   "metadata": {},
   "source": [
    "## if语句\n",
    "- 如果条件正确就执行一个单向if语句，亦即当条件为真的时候才执行if内部的语句\n",
    "- Python有很多选择语句:\n",
    "> - 单向if \n",
    "  - 双向if-else\n",
    "  - 嵌套if\n",
    "  - 多向if-elif-else\n",
    "  \n",
    "- 注意：当语句含有子语句的时候，那么一定至少要有一个缩进，也就是说如果有儿子存在，那么一定要缩进\n",
    "- 切记不可tab键和space混用，单用tab 或者 space\n",
    "- 当你输出的结果是无论if是否为真时都需要显示时，语句应该与if对齐"
   ]
  },
  {
   "cell_type": "code",
   "execution_count": null,
   "metadata": {},
   "outputs": [],
   "source": [
    "a = int(1000)"
   ]
  },
  {
   "cell_type": "code",
   "execution_count": null,
   "metadata": {},
   "outputs": [],
   "source": [
    "b = int(input(\"money\"))\n",
    "if b <= a:\n",
    "    print(\"已经取出，请节约使用\")\n",
    "    yue = a - b\n",
    "    a   = yue\n",
    "    print(\"您的可用余额为：\",yue)\n",
    "if a > 1000:\n",
    "    print(\"余额不足\")\n"
   ]
  },
  {
   "cell_type": "markdown",
   "metadata": {},
   "source": [
    "## EP：\n",
    "- 用户输入一个数字，判断其实奇数还是偶数\n",
    "- 进阶：可以查看下4.5实例研究猜生日"
   ]
  },
  {
   "cell_type": "markdown",
   "metadata": {},
   "source": [
    "## 双向if-else 语句\n",
    "- 如果条件为真，那么走if内部语句，否则走else内部语句"
   ]
  },
  {
   "cell_type": "markdown",
   "metadata": {},
   "source": [
    "## EP：\n",
    "- 产生两个随机整数number1和number2，然后显示给用户，使用户输入数字，并判定其是否正确,如果正确打印“you‘re correct”，否则打印正确错误"
   ]
  },
  {
   "cell_type": "markdown",
   "metadata": {},
   "source": [
    "## 嵌套if 和多向if-elif-else\n",
    "![](../Photo/35.png)"
   ]
  },
  {
   "cell_type": "markdown",
   "metadata": {},
   "source": [
    "## EP：\n",
    "- 提示用户输入一个年份，然后显示表示这一年的动物\n",
    "![](../Photo/36.png)\n",
    "- 计算身体质量指数的程序\n",
    "- BMI = 以千克为单位的体重除以以米为单位的身高\n",
    "![](../Photo/37.png)"
   ]
  },
  {
   "cell_type": "markdown",
   "metadata": {},
   "source": [
    "## 逻辑运算符\n",
    "![](../Photo/38.png)"
   ]
  },
  {
   "cell_type": "markdown",
   "metadata": {},
   "source": [
    "![](../Photo/39.png)\n",
    "![](../Photo/40.png)"
   ]
  },
  {
   "cell_type": "markdown",
   "metadata": {},
   "source": [
    "## EP：\n",
    "- 判定闰年：一个年份如果能被4整除但不能被100整除，或者能被400整除，那么这个年份就是闰年\n",
    "- 提示用户输入一个年份，并返回是否是闰年\n",
    "- 提示用户输入一个数字，判断其是否为水仙花数"
   ]
  },
  {
   "cell_type": "code",
   "execution_count": null,
   "metadata": {},
   "outputs": [],
   "source": []
  },
  {
   "cell_type": "code",
   "execution_count": null,
   "metadata": {},
   "outputs": [],
   "source": [
    "a = int(input(\"please input tou year:\"))\n",
    "if ( (a % 4 == 0) and (a % 100 != 0)) or (a % 400 == 0 ):\n",
    "    print(\"runnian\")\n",
    "else:\n",
    "    print(\"pingnian\")"
   ]
  },
  {
   "cell_type": "markdown",
   "metadata": {},
   "source": [
    "## 实例研究：彩票\n",
    "![](../Photo/41.png)"
   ]
  },
  {
   "cell_type": "code",
   "execution_count": null,
   "metadata": {},
   "outputs": [],
   "source": [
    "import random\n",
    "a = random.randint(1,9)\n",
    "print(type(a))\n",
    "b = random.randint(1,9)\n",
    "print(type(b))\n",
    "a1 = str(a)\n",
    "b1 = str(b)\n",
    "c = str(a) + str(b)\n",
    "c2 = str(b) + str(a)\n",
    "c3 = int(c)\n",
    "c4 = int(c2)\n",
    "print(\"生成随机数为：\"+c)\n",
    "d = int(input(\"please input number:\"))\n",
    "d1 = str(d)\n",
    "d2 = d1[0]\n",
    "d3 = d1[1]\n",
    "d4 = int(d2)\n",
    "d5 = int(d3)\n",
    "print(d2)\n",
    "print(d3)\n",
    "print(type(d2))\n",
    "if d == c3 :\n",
    "    print(\"10000\")\n",
    "    exit()\n",
    "if  d == c4:\n",
    "    print(\"3000\")\n",
    "    exit()\n",
    "if  d4 == a or d4 == b:\n",
    "    print(\"1000\")\n",
    "if d5 == a or d5 ==b:\n",
    "    print(\"1000\")"
   ]
  },
  {
   "cell_type": "markdown",
   "metadata": {},
   "source": [
    "# Homework\n",
    "- 1\n",
    "![](../Photo/42.png)"
   ]
  },
  {
   "cell_type": "code",
   "execution_count": 17,
   "metadata": {},
   "outputs": [
    {
     "name": "stdout",
     "output_type": "stream",
     "text": [
      "please input a: 1\n",
      "please input b: 2\n",
      "please input c: 3\n",
      "The equation has no real roots\n"
     ]
    }
   ],
   "source": [
    "import math\n",
    "a = float(input(\"please input a: \"))\n",
    "b = float(input(\"please input b: \"))\n",
    "c = float(input(\"please input c: \"))\n",
    "d = b*b - 4*a*c\n",
    "if d > 0:\n",
    "    r1 = (-b + math.sqrt(b*b-4*a*c)) / 2*a\n",
    "    r2 = (-b - math.sqrt(b*b-4*a*c)) / 2*a\n",
    "    print(\"r1=\",round(r1,6), \" r2=\",round(r2,5))\n",
    "if d == 0:\n",
    "     r1 = (-b + math.sqrt(b*b-4*a*c)) / 2*a \n",
    "  #   print(type(r1))   \n",
    "     print(\"The root is: \",r1)\n",
    "if d < 0:\n",
    "    print(\"The equation has no real roots\")"
   ]
  },
  {
   "cell_type": "markdown",
   "metadata": {},
   "source": [
    "- 2\n",
    "![](../Photo/43.png)"
   ]
  },
  {
   "cell_type": "code",
   "execution_count": 28,
   "metadata": {},
   "outputs": [
    {
     "name": "stdout",
     "output_type": "stream",
     "text": [
      "产生的两个随机数为 4 and 2\n",
      "please input their sum: 6\n",
      "true\n"
     ]
    }
   ],
   "source": [
    "import random\n",
    "a = random.randint(1,9)\n",
    "b = random.randint(1,9)\n",
    "print(\"产生的两个随机数为\",a,\"and\",b)\n",
    "c = int(input(\"please input their sum: \"))\n",
    "if c == a + b:\n",
    "    print(\"true\")\n",
    "else:\n",
    "        print(\"False\")"
   ]
  },
  {
   "cell_type": "markdown",
   "metadata": {},
   "source": [
    "- 3\n",
    "![](../Photo/44.png)"
   ]
  },
  {
   "cell_type": "code",
   "execution_count": null,
   "metadata": {},
   "outputs": [],
   "source": []
  },
  {
   "cell_type": "code",
   "execution_count": null,
   "metadata": {},
   "outputs": [],
   "source": []
  },
  {
   "cell_type": "markdown",
   "metadata": {},
   "source": [
    "- 4\n",
    "![](../Photo/45.png)"
   ]
  },
  {
   "cell_type": "code",
   "execution_count": 41,
   "metadata": {},
   "outputs": [
    {
     "name": "stdout",
     "output_type": "stream",
     "text": [
      "input the number:2\n",
      "input the number:8\n",
      "input the number:5\n",
      "2 5 8\n"
     ]
    }
   ],
   "source": [
    "#L=[1,3,2]\n",
    "#L.sort()\n",
    "#print(L)\n",
    "\n",
    "L=[]\n",
    "for i in range(0,3):\n",
    "    x = int(input(\"input the number:\"))\n",
    "    L.append(x)\n",
    "L.sort()\n",
    "print(L[0],L[1],L[2])"
   ]
  },
  {
   "cell_type": "markdown",
   "metadata": {},
   "source": [
    "- 5\n",
    "![](../Photo/46.png)"
   ]
  },
  {
   "cell_type": "code",
   "execution_count": 46,
   "metadata": {},
   "outputs": [
    {
     "name": "stdout",
     "output_type": "stream",
     "text": [
      "please input the weight1: 50\n",
      "please input the price1: 24.59\n",
      "please input the weight2: 25\n",
      "please input the price2: 11.99\n",
      "第二种贵\n"
     ]
    }
   ],
   "source": [
    "weight1 = float(input(\"please input the weight1: \"))\n",
    "price1 = float(input(\"please input the price1: \"))\n",
    "weight2 = float(input(\"please input the weight2: \"))\n",
    "price2 = float(input(\"please input the price2: \"))\n",
    "d1 = weight1 / price1\n",
    "d2 = weight2 / price2\n",
    "if d1 > d2:\n",
    "    print(\"第一种贵\")\n",
    "if d1 == d2:\n",
    "    print(\"俩一样贵\")\n",
    "if d1 < d2:\n",
    "    print(\"第二种贵\")\n",
    "    \n",
    "    "
   ]
  },
  {
   "cell_type": "markdown",
   "metadata": {},
   "source": [
    "- 6\n",
    "![](../Photo/47.png)"
   ]
  },
  {
   "cell_type": "code",
   "execution_count": null,
   "metadata": {},
   "outputs": [],
   "source": []
  },
  {
   "cell_type": "code",
   "execution_count": null,
   "metadata": {},
   "outputs": [],
   "source": []
  },
  {
   "cell_type": "markdown",
   "metadata": {},
   "source": [
    "- 7\n",
    "![](../Photo/48.png)"
   ]
  },
  {
   "cell_type": "code",
   "execution_count": 56,
   "metadata": {},
   "outputs": [
    {
     "name": "stdout",
     "output_type": "stream",
     "text": [
      "0\n",
      "please input you chooes ,0是正面，1是反面0\n",
      "恭喜你，你赢了\n"
     ]
    }
   ],
   "source": [
    "import random\n",
    "a = random.randint(0,1)\n",
    "print(a)\n",
    "b = int(input(\"please input you chooes ,0是正面，1是反面\"))\n",
    "if b == a:\n",
    "    print(\"恭喜你，你赢了\")\n",
    "else:\n",
    "    print(\"你输了继续努力\")"
   ]
  },
  {
   "cell_type": "markdown",
   "metadata": {},
   "source": [
    "- 8\n",
    "![](../Photo/49.png)"
   ]
  },
  {
   "cell_type": "code",
   "execution_count": 62,
   "metadata": {},
   "outputs": [
    {
     "name": "stdout",
     "output_type": "stream",
     "text": [
      "随机数为： 0\n",
      "please input you num2\n",
      "玩家输了\n"
     ]
    }
   ],
   "source": [
    "import random\n",
    "a = random.randint(0,2)\n",
    "print(\"随机数为：\",a)\n",
    "b = int(input(\"please input you num\"))\n",
    "if b == a:\n",
    "    print(\"巧了，咱俩出一样\")\n",
    "if a == 0:\n",
    "    if b == 1:\n",
    "        print(\"玩家赢了\")\n",
    "    if b == 2:\n",
    "        print(\"玩家输了\")\n",
    "if a == 1:\n",
    "    if b == 0:\n",
    "        print(\"玩家输了\")\n",
    "    if b == 2:\n",
    "        print(\"玩家赢了\")\n",
    "if a == 2:\n",
    "    if b == 0:\n",
    "        print(\"玩家赢了\")\n",
    "    if b == 1:\n",
    "        print(\"玩家输了\")"
   ]
  },
  {
   "cell_type": "markdown",
   "metadata": {},
   "source": [
    "- 9\n",
    "![](../Photo/50.png)"
   ]
  },
  {
   "cell_type": "code",
   "execution_count": 77,
   "metadata": {},
   "outputs": [
    {
     "name": "stdout",
     "output_type": "stream",
     "text": [
      "please input the year: 2018\n",
      "please input the month: 8\n",
      "please input the day of the month: 29\n",
      "星期三\n"
     ]
    }
   ],
   "source": [
    "year = int(input(\"please input the year: \"))\n",
    "month = int(input(\"please input the month: \"))\n",
    "day = int(input(\"please input the day of the month: \"))\n",
    "if month == 1:\n",
    "    month = 13\n",
    "    year = year - 1\n",
    "    k = year % 100\n",
    "    j = year // 100\n",
    "    h = (day+ ((26 * (month+ 1)) // 10) + k + k // 4 + j // 4 + 5 * j) % 7\n",
    "    if h == 0:\n",
    "        h1 = \"星期六\"\n",
    "    if h == 1:\n",
    "        h1 = \"星期日\"\n",
    "    if h == 2:\n",
    "        h1 = \"星期一\"\n",
    "    if h == 3:\n",
    "        h1 = \"星期二\"\n",
    "    if h == 4:\n",
    "        h1 = \"星期三\"\n",
    "    if h == 5:\n",
    "        h1 = \"星期四\"\n",
    "    if h == 6:\n",
    "        h1 = \"星期五\"\n",
    "    print(h1)\n",
    "if month == 2:\n",
    "    month = 14\n",
    "    year = year - 1\n",
    "    k = year % 100\n",
    "    j = year // 100\n",
    "    h = (day + ((26 * (month + 1)) // 10) + k + k // 4 + j // 4 + 5 * j) % 7\n",
    "    if h == 0:\n",
    "        h1 = \"星期六\"\n",
    "    if h == 1:\n",
    "        h1 = \"星期日\"\n",
    "    if h == 2:\n",
    "        h1 = \"星期一\"\n",
    "    if h == 3:\n",
    "        h1 = \"星期二\"\n",
    "    if h == 4:\n",
    "        h1 = \"星期三\"\n",
    "    if h == 5:\n",
    "        h1 = \"星期四\"\n",
    "    if h == 6:\n",
    "        h1 = \"星期五\"\n",
    "    print(h1)\n",
    "if (month == 3 or month == 4 or month == 5 or month == 6 or month == 7 or month == 8 or month == 9 or month == 10 or month == 11 or month == 12):\n",
    "    k = year % 100\n",
    "    j = year // 100\n",
    "    h = (day + ((26 * (month + 1)) // 10) + k + k // 4 + j // 4 + 5 * j) % 7\n",
    "    if h == 0:\n",
    "        h1 = \"星期六\"\n",
    "    if h == 1:\n",
    "        h1 = \"星期日\"\n",
    "    if h == 2:\n",
    "        h1 = \"星期一\"\n",
    "    if h == 3:\n",
    "        h1 = \"星期二\"\n",
    "    if h == 4:\n",
    "        h1 = \"星期三\"\n",
    "    if h == 5:\n",
    "        h1 = \"星期四\"\n",
    "    if h == 6:\n",
    "        h1 = \"星期五\"\n",
    "    print(h1)"
   ]
  },
  {
   "cell_type": "markdown",
   "metadata": {},
   "source": [
    "- 10\n",
    "![](../Photo/51.png)"
   ]
  },
  {
   "cell_type": "code",
   "execution_count": 105,
   "metadata": {},
   "outputs": [
    {
     "name": "stdout",
     "output_type": "stream",
     "text": [
      "The card you picked is 6 of 红桃\n"
     ]
    }
   ],
   "source": [
    "import random\n",
    "a = [\"1\",\"2\",\"3\",\"4\",\"5\",\"6\",\"7\",\"8\",\"9\",\"10\",\"J\",\"Q\",\"K\"]\n",
    "b = ['梅花',\"红桃\",\"方块\",\"黑桃\"]\n",
    "a1 = random.choice(a)\n",
    "b1 = random.choice(b)\n",
    "print(\"The card you picked is \"+a1+\" of \"+b1)"
   ]
  },
  {
   "cell_type": "markdown",
   "metadata": {},
   "source": [
    "- 11\n",
    "![](../Photo/52.png)"
   ]
  },
  {
   "cell_type": "code",
   "execution_count": 111,
   "metadata": {},
   "outputs": [
    {
     "name": "stdout",
     "output_type": "stream",
     "text": [
      "please input you three num212\n",
      "回文数\n"
     ]
    }
   ],
   "source": [
    "a = int(input(\"please input you three num\"))\n",
    "aq = str(a)\n",
    "a1 = aq[0]\n",
    "a2 = aq[1]\n",
    "a3 = aq[2]\n",
    "a4 = int(a1)\n",
    "a5 = int(a2)\n",
    "a6 = int(a3)\n",
    "if (a4 == a6 and a5 == a5 and a6 == a4):\n",
    "    print(\"回文数\")\n",
    "else:\n",
    "    print(\"不是回文数\")"
   ]
  },
  {
   "cell_type": "markdown",
   "metadata": {},
   "source": [
    "- 12\n",
    "![](../Photo/53.png)"
   ]
  },
  {
   "cell_type": "code",
   "execution_count": 113,
   "metadata": {},
   "outputs": [
    {
     "name": "stdout",
     "output_type": "stream",
     "text": [
      "please input the a: 1\n",
      "please input the b: 2\n",
      "please input the c: 3\n",
      "构不成三角形\n"
     ]
    }
   ],
   "source": [
    "a = int(input(\"please input the a: \"))\n",
    "b = int(input(\"please input the b: \"))\n",
    "c = int(input(\"please input the c: \"))\n",
    "if (a+b>c and a+c>b and b+a>c and b+c>a and c+a>b and c+b >a and a-b<c and a-c<b and b-a<c and b-c<a and c-a<b and c-b<a):\n",
    "    print(\"The perimeter is \",a+b+c)\n",
    "else:\n",
    "    print(\"构不成三角形\")\n"
   ]
  },
  {
   "cell_type": "code",
   "execution_count": null,
   "metadata": {},
   "outputs": [],
   "source": [
    "print(\"zz\")"
   ]
  },
  {
   "cell_type": "code",
   "execution_count": null,
   "metadata": {},
   "outputs": [],
   "source": []
  },
  {
   "cell_type": "code",
   "execution_count": null,
   "metadata": {},
   "outputs": [],
   "source": []
  },
  {
   "cell_type": "code",
   "execution_count": null,
   "metadata": {},
   "outputs": [],
   "source": []
  },
  {
   "cell_type": "code",
   "execution_count": null,
   "metadata": {},
   "outputs": [],
   "source": []
  },
  {
   "cell_type": "code",
   "execution_count": null,
   "metadata": {},
   "outputs": [],
   "source": []
  }
 ],
 "metadata": {
  "kernelspec": {
   "display_name": "Python 3",
   "language": "python",
   "name": "python3"
  },
  "language_info": {
   "codemirror_mode": {
    "name": "ipython",
    "version": 3
   },
   "file_extension": ".py",
   "mimetype": "text/x-python",
   "name": "python",
   "nbconvert_exporter": "python",
   "pygments_lexer": "ipython3",
   "version": "3.6.4"
  }
 },
 "nbformat": 4,
 "nbformat_minor": 2
}
