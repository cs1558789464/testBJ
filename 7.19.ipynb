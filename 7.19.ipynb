{
 "cells": [
  {
   "cell_type": "markdown",
   "metadata": {},
   "source": [
    "# 循环\n",
    "- 循环是一种控制语句块重复执行的结构\n",
    "- while  适用于广度遍历\n",
    "- for    开发中经常使用"
   ]
  },
  {
   "cell_type": "markdown",
   "metadata": {},
   "source": [
    "## while 循环\n",
    "- 当一个条件保持真的时候while循环重复执行语句\n",
    "- while 循环一定要有结束条件，否则很容易进入死循环\n",
    "- while 循环的语法是：\n",
    "\n",
    "    while loop-contunuation-conndition:\n",
    "\n",
    "        Statement"
   ]
  },
  {
   "cell_type": "markdown",
   "metadata": {},
   "source": [
    "## 示例：\n",
    "sum = 0\n",
    "\n",
    "i = 1\n",
    "\n",
    "while i <10:\n",
    "\n",
    "    sum = sum + i\n",
    "    i = i + 1"
   ]
  },
  {
   "cell_type": "markdown",
   "metadata": {},
   "source": [
    "## 错误示例：\n",
    "sum = 0\n",
    "\n",
    "i = 1\n",
    "\n",
    "while i <10:\n",
    "\n",
    "    sum = sum + i\n",
    "\n",
    "i = i + 1\n",
    "- 一旦进入死循环可按 Ctrl + c 停止"
   ]
  },
  {
   "cell_type": "code",
   "execution_count": null,
   "metadata": {},
   "outputs": [],
   "source": [
    "a = \"abcd\"\n",
    "i =0\n",
    "while i <= 3:\n",
    "    print(a[i],end='')\n",
    "    i += 1\n",
    "     "
   ]
  },
  {
   "cell_type": "markdown",
   "metadata": {},
   "source": [
    "## EP：\n",
    "![](../Photo/143.png)\n",
    "![](../Photo/144.png)"
   ]
  },
  {
   "cell_type": "code",
   "execution_count": null,
   "metadata": {},
   "outputs": [],
   "source": [
    "number = eval(input(\"aaa\"))\n",
    "max = number\n",
    "while number != 0:\n",
    "    number = eval(input(\"bbb\"))\n",
    "    if number > max:\n",
    "        print(\"max\",max)\n",
    "        print(\"number\",number)"
   ]
  },
  {
   "cell_type": "markdown",
   "metadata": {},
   "source": [
    "# 验证码\n",
    "- 随机产生四个字母的验证码，如果正确，输出验证码正确。如果错误，产生新的验证码，用户重新输入。\n",
    "- 验证码只能输入三次，如果三次都错，返回“别爬了，我们小网站没什么好爬的”\n",
    "- 密码登录，如果三次错误，账号被锁定\n"
   ]
  },
  {
   "cell_type": "code",
   "execution_count": null,
   "metadata": {},
   "outputs": [],
   "source": [
    "import random\n",
    "import sys\n",
    "i = 0\n",
    "while i< 3:\n",
    "    a  = random.randint(97,122)\n",
    "    a1 = random.randint(65,90)\n",
    "    b1 = chr(a)\n",
    "    b2 = chr(a1)\n",
    "    a2 =[b1,b2]\n",
    "    a3 = random.choice(a2)\n",
    "    print(a3,end = '')\n",
    "    #i += 1\n",
    "    c  = random.randint(97,122)\n",
    "    c1 = random.randint(65,90)\n",
    "    d1 = chr(c)\n",
    "    d2 = chr(c1)\n",
    "    d3 =[d1,d2]\n",
    "    d4 = random.choice(d3)\n",
    "    print(d4,end = '')\n",
    "#############\n",
    "    e  = random.randint(97,122)\n",
    "    e1 = random.randint(65,90)\n",
    "    f1 = chr(e)\n",
    "    f2 = chr(e1)\n",
    "    f3 =[f1,f2]\n",
    "    f4 = random.choice(f3)\n",
    "    print(f4,end='')\n",
    "###########\n",
    "    g  = random.randint(97,122)\n",
    "    g1 = random.randint(65,90)\n",
    "    h1 = chr(g)\n",
    "    h2 = chr(g1)\n",
    "    h3 =[h1,h2]\n",
    "    h4 = random.choice(h3)\n",
    "    print(h4,end = '')\n",
    "    z = input(\"please input you yanzhengma: \")\n",
    "    z1 = z[0]\n",
    "    z2 = z[1]\n",
    "    z3 = z[2]\n",
    "    z4 = z[3]\n",
    "    if (z[0] == a3 and z[1] == d4 and z[2] == f4 and z[3] == h4):\n",
    "        print(\"猜对了\")\n",
    "        i += 1\n",
    "    \n",
    "    #    sys.exit()\n",
    "    else:\n",
    "        print(\"猜错了兄弟\")\n",
    "        i +=1\n",
    "    if i == 3:\n",
    "        print(\"别爬了兄弟\")"
   ]
  },
  {
   "cell_type": "markdown",
   "metadata": {},
   "source": [
    "## 尝试死循环"
   ]
  },
  {
   "cell_type": "markdown",
   "metadata": {},
   "source": [
    "## 实例研究：猜数字\n",
    "- 你将要编写一个能够随机生成一个0到10之间的且包括两者的数字程序，这个程序\n",
    "- 提示用户连续地输入数字直到正确，且提示用户输入的数字是过高还是过低"
   ]
  },
  {
   "cell_type": "code",
   "execution_count": null,
   "metadata": {},
   "outputs": [],
   "source": [
    "import random\n",
    "a = random.randint(0,10)\n",
    "z = 1\n",
    "print(\"生成数:\",a)\n",
    "while  z==1:\n",
    "    s =int(input(\"pleaes input\"))\n",
    "    if s>a:\n",
    "        print(\"大了\")\n",
    "    elif s<a:\n",
    "        print(\"小了\")\n",
    "    else:\n",
    "        print(\"对了\")\n",
    "        break\n",
    "    "
   ]
  },
  {
   "cell_type": "markdown",
   "metadata": {},
   "source": [
    "## 使用哨兵值来控制循环\n",
    "- 哨兵值来表明输入的结束\n",
    "- ![](../Photo/54.png)"
   ]
  },
  {
   "cell_type": "markdown",
   "metadata": {},
   "source": [
    "## 警告\n",
    "![](../Photo/55.png)"
   ]
  },
  {
   "cell_type": "markdown",
   "metadata": {},
   "source": [
    "## for 循环\n",
    "- Python的for 循环通过一个序列中的每个值来进行迭代\n",
    "- range(a,b,k)， a，b，k 必须为整数\n",
    "- a: start\n",
    "- b: end\n",
    "- k: step\n",
    "- 注意for 是循环一切可迭代对象，而不是只能使用range"
   ]
  },
  {
   "cell_type": "markdown",
   "metadata": {},
   "source": [
    "# 在Python里面一切皆对象"
   ]
  },
  {
   "cell_type": "markdown",
   "metadata": {},
   "source": [
    "## EP:\n",
    "- ![](../Photo/145.png)"
   ]
  },
  {
   "cell_type": "markdown",
   "metadata": {},
   "source": [
    "## 嵌套循环\n",
    "- 一个循环可以嵌套另一个循环\n",
    "- 每次循环外层时，内层循环都会被刷新重新完成循环\n",
    "- 也就是说，大循环执行一次，小循环会全部执行一次\n",
    "- 注意：\n",
    "> - 多层循环非常耗时\n",
    "  - 最多使用3层循环"
   ]
  },
  {
   "cell_type": "markdown",
   "metadata": {},
   "source": [
    "## EP：\n",
    "- 使用多层循环完成9X9乘法表\n",
    "- 显示50以内所有的素数"
   ]
  },
  {
   "cell_type": "markdown",
   "metadata": {},
   "source": [
    "## 关键字 break 和 continue\n",
    "- break 跳出循环，终止循环\n",
    "- continue 跳出此次循环，继续执行"
   ]
  },
  {
   "cell_type": "markdown",
   "metadata": {},
   "source": [
    "## 注意\n",
    "![](../Photo/56.png)\n",
    "![](../Photo/57.png)"
   ]
  },
  {
   "cell_type": "markdown",
   "metadata": {},
   "source": [
    "# Homework\n",
    "- 1 \n",
    "![](../Photo/58.png)"
   ]
  },
  {
   "cell_type": "code",
   "execution_count": null,
   "metadata": {},
   "outputs": [],
   "source": [
    "sum = 0\n",
    "zhengshu =0\n",
    "fushu = 0\n",
    "z =1\n",
    "while z==1:\n",
    "   s =int(input(\"pleaes input: \"))\n",
    "   if s > 0:\n",
    "       zhengshu = zhengshu + 1\n",
    "   elif s < 0:\n",
    "       fushu = fushu + 1\n",
    "   else:\n",
    "      break\n",
    "   sum += s\n",
    "print(\"正数的个数为：\",zhengshu)\n",
    "print(\"负数的个数为：\",fushu)\n",
    "print(\"平均值为：\",sum/(zhengshu+fushu))"
   ]
  },
  {
   "cell_type": "markdown",
   "metadata": {},
   "source": [
    "- 2\n",
    "![](../Photo/59.png)"
   ]
  },
  {
   "cell_type": "code",
   "execution_count": 5,
   "metadata": {},
   "outputs": [
    {
     "name": "stdout",
     "output_type": "stream",
     "text": [
      "第十年总学费为: 16289\n"
     ]
    }
   ],
   "source": [
    "money = 10000\n",
    "i =0\n",
    "sum =0\n",
    "while i< 10:\n",
    "    s = money*5/100\n",
    "    i = i+1\n",
    "    money +=s\n",
    "    sum = sum+money\n",
    "print(\"第十年总学费为:\",round(money))"
   ]
  },
  {
   "cell_type": "markdown",
   "metadata": {},
   "source": [
    "- 3\n",
    "![](../Photo/58.png)"
   ]
  },
  {
   "cell_type": "code",
   "execution_count": null,
   "metadata": {},
   "outputs": [],
   "source": [
    "sum = 0\n",
    "zhengshu =0\n",
    "fushu = 0\n",
    "z =1\n",
    "while z==1:\n",
    "   s =int(input(\"pleaes input: \"))\n",
    "   if s > 0:\n",
    "       zhengshu = zhengshu + 1\n",
    "   elif s < 0:\n",
    "       fushu = fushu + 1\n",
    "   else:\n",
    "      break\n",
    "   sum += s\n",
    "print(\"正数的个数为：\",zhengshu)\n",
    "print(\"负数的个数为：\",fushu)\n",
    "print(\"平均值为：\",sum/(zhengshu+fushu))"
   ]
  },
  {
   "cell_type": "markdown",
   "metadata": {},
   "source": [
    "- 4\n",
    "![](../Photo/60.png)"
   ]
  },
  {
   "cell_type": "code",
   "execution_count": null,
   "metadata": {},
   "outputs": [],
   "source": [
    "count = 0\n",
    "for num in range(100,1001):\n",
    "    if (num%5==0 and num%6==0):\n",
    "        if count % 10 ==0:\n",
    "            print(\"\")\n",
    "        print( num,end =' ')\n",
    "        count = count+1"
   ]
  },
  {
   "cell_type": "markdown",
   "metadata": {},
   "source": [
    "- 5\n",
    "![](../Photo/61.png)"
   ]
  },
  {
   "cell_type": "code",
   "execution_count": 8,
   "metadata": {},
   "outputs": [
    {
     "name": "stdout",
     "output_type": "stream",
     "text": [
      "最小整数平方大于12000的是:  110\n",
      "最大整数立方大于12000的是： 22\n"
     ]
    }
   ],
   "source": [
    "i = 0\n",
    "a = 0\n",
    "while(a==0):\n",
    "    s = i*i\n",
    "    if s>12000:\n",
    "        print(\"最小整数平方大于12000的是: \",i)\n",
    "        break\n",
    "    i = i+1\n",
    "i = 200\n",
    "while i < 6000:\n",
    "    if pow(i,3) < 12000:\n",
    "        print(\"最大整数立方大于12000的是：\",i)\n",
    "        break\n",
    "    else:\n",
    "        i -= 1\n",
    "\n",
    "         "
   ]
  },
  {
   "cell_type": "markdown",
   "metadata": {},
   "source": [
    "- 6\n",
    "![](../Photo/62.png)"
   ]
  },
  {
   "cell_type": "code",
   "execution_count": 1,
   "metadata": {},
   "outputs": [
    {
     "name": "stdout",
     "output_type": "stream",
     "text": [
      "请输入贷款额: 10000\n",
      "请输入贷款周期: 5\n",
      "10000\n",
      "Interest Rate    Monthly Payment    Total Payment\n"
     ]
    }
   ],
   "source": [
    "a = int(input(\"请输入贷款额: \"))\n",
    "b = int(input(\"请输入贷款周期: \"))\n",
    "a1 = float(a)\n",
    "b1 = float(b)\n",
    "print(a)\n",
    "c1 = 0.05\n",
    "print(\"Interest Rate    Monthly Payment    Total Payment\")\n",
    "while(i!=0.08):\n",
    "    c1=c1+c1*1/8\n",
    "    \n"
   ]
  },
  {
   "cell_type": "code",
   "execution_count": null,
   "metadata": {},
   "outputs": [],
   "source": []
  },
  {
   "cell_type": "markdown",
   "metadata": {},
   "source": [
    "- 7\n",
    "![](../Photo/63.png)"
   ]
  },
  {
   "cell_type": "code",
   "execution_count": 11,
   "metadata": {},
   "outputs": [
    {
     "name": "stdout",
     "output_type": "stream",
     "text": [
      "左到右 11.397003949278504\n",
      "右到左 11.397003949278519\n"
     ]
    }
   ],
   "source": [
    "s = 0.0\n",
    "for i in range(1,50001):\n",
    "    s = s+ 1.0/i\n",
    "    i = i+1\n",
    "print(\"左到右\",s)\n",
    "s=0.0\n",
    "n =50000\n",
    "while(n>0 ):\n",
    "      s = 1/n+s\n",
    "      n = n-1\n",
    "print(\"右到左\",s)"
   ]
  },
  {
   "cell_type": "code",
   "execution_count": null,
   "metadata": {},
   "outputs": [],
   "source": []
  },
  {
   "cell_type": "markdown",
   "metadata": {},
   "source": [
    "- 8\n",
    "![](../Photo/64.png)"
   ]
  },
  {
   "cell_type": "code",
   "execution_count": 12,
   "metadata": {},
   "outputs": [
    {
     "name": "stdout",
     "output_type": "stream",
     "text": [
      "最终结果为: 45.124450303050196\n"
     ]
    }
   ],
   "source": [
    "result=0\n",
    "fenzi = 0\n",
    "fenmu = 0\n",
    "for i in range(3,100):\n",
    "    if(i%2)==1:\n",
    "        fenmu = i\n",
    "        fenzi = i-2\n",
    "        result=fenzi/fenmu+result\n",
    "print(\"最终结果为:\",result)"
   ]
  },
  {
   "cell_type": "markdown",
   "metadata": {},
   "source": [
    "- 9\n",
    "![](../Photo/65.png)"
   ]
  },
  {
   "cell_type": "markdown",
   "metadata": {},
   "source": [
    "- 10 \n",
    "![](../Photo/66.png)"
   ]
  },
  {
   "cell_type": "markdown",
   "metadata": {},
   "source": [
    "- 11\n",
    "![](../Photo/67.png)"
   ]
  },
  {
   "cell_type": "code",
   "execution_count": 16,
   "metadata": {},
   "outputs": [
    {
     "name": "stdout",
     "output_type": "stream",
     "text": [
      "21\n"
     ]
    }
   ],
   "source": [
    "count = 0\n",
    "for i in range(1,8):\n",
    "    for j in range(1,8):\n",
    "        if (i != j  ) :\n",
    "            count = count+1\n",
    "print(round(count/2))"
   ]
  },
  {
   "cell_type": "markdown",
   "metadata": {},
   "source": [
    "- 12\n",
    "![](../Photo/68.png)"
   ]
  },
  {
   "cell_type": "code",
   "execution_count": null,
   "metadata": {},
   "outputs": [],
   "source": [
    "1 **2 + 2**2 + 3**2 + 5.5 *2 + 5.6 **2 + 6 **2 + 7**2 + 8**2 + 9 **2 + 10 **2"
   ]
  },
  {
   "cell_type": "code",
   "execution_count": null,
   "metadata": {},
   "outputs": [],
   "source": [
    "1  + 2 + 3 + 5.5  + 5.6 + 6 + 7 + 8+ 9  + 10"
   ]
  }
 ],
 "metadata": {
  "kernelspec": {
   "display_name": "Python 3",
   "language": "python",
   "name": "python3"
  },
  "language_info": {
   "codemirror_mode": {
    "name": "ipython",
    "version": 3
   },
   "file_extension": ".py",
   "mimetype": "text/x-python",
   "name": "python",
   "nbconvert_exporter": "python",
   "pygments_lexer": "ipython3",
   "version": "3.6.4"
  }
 },
 "nbformat": 4,
 "nbformat_minor": 2
}
